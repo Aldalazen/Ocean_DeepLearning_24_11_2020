{
  "nbformat": 4,
  "nbformat_minor": 0,
  "metadata": {
    "colab": {
      "name": "PrimeirosPassos_Python_24_11_2020.ipynb",
      "provenance": []
    },
    "kernelspec": {
      "name": "python3",
      "display_name": "Python 3"
    }
  },
  "cells": [
    {
      "cell_type": "code",
      "metadata": {
        "id": "kE2Zl1tABP2r"
      },
      "source": [
        "import keras"
      ],
      "execution_count": 4,
      "outputs": []
    },
    {
      "cell_type": "code",
      "metadata": {
        "id": "dR784nysDRZN"
      },
      "source": [
        "numero = 5"
      ],
      "execution_count": 2,
      "outputs": []
    },
    {
      "cell_type": "code",
      "metadata": {
        "colab": {
          "base_uri": "https://localhost:8080/"
        },
        "id": "MTY0K3qzDvg4",
        "outputId": "e13436ce-d898-4b38-ceda-8d44c9de230d"
      },
      "source": [
        "print(numero)"
      ],
      "execution_count": 7,
      "outputs": [
        {
          "output_type": "stream",
          "text": [
            "9\n"
          ],
          "name": "stdout"
        }
      ]
    },
    {
      "cell_type": "code",
      "metadata": {
        "colab": {
          "base_uri": "https://localhost:8080/"
        },
        "id": "_faS8_H7DzEg",
        "outputId": "fc3f484c-d6cb-417e-a100-d415cfa2a1e6"
      },
      "source": [
        "numero = numero + 1\n",
        "print(numero)"
      ],
      "execution_count": 8,
      "outputs": [
        {
          "output_type": "stream",
          "text": [
            "10\n"
          ],
          "name": "stdout"
        }
      ]
    },
    {
      "cell_type": "code",
      "metadata": {
        "colab": {
          "base_uri": "https://localhost:8080/"
        },
        "id": "q-OKs0KlE3yA",
        "outputId": "fde2efe0-bcbd-4310-c764-941cb79f91d3"
      },
      "source": [
        "nome = \"Paulo\" # String ou str\n",
        "numero_inteiro = 5 # Integer ou int\n",
        "numero_decimal = 2.5 # Float\n",
        "solteiro = True # Boolean ou bool\n",
        "\n",
        "print(nome, type(nome))\n",
        "print(numero_inteiro, type(numero_inteiro))\n",
        "print(numero_decimal, type(numero_decimal))\n",
        "print(solteiro, type(solteiro))"
      ],
      "execution_count": 11,
      "outputs": [
        {
          "output_type": "stream",
          "text": [
            "Paulo <class 'str'>\n",
            "5 <class 'int'>\n",
            "2.5 <class 'float'>\n",
            "True <class 'bool'>\n"
          ],
          "name": "stdout"
        }
      ]
    },
    {
      "cell_type": "code",
      "metadata": {
        "colab": {
          "base_uri": "https://localhost:8080/"
        },
        "id": "Uxlu7Yb0FzoM",
        "outputId": "ecadbc91-464a-41b9-fa5e-64c12789dd28"
      },
      "source": [
        "lista = [5, 7, 3, 6, 12, 30, 40, 90, 70, 60]\n",
        "\n",
        "print(lista, type(lista))\n",
        "\n",
        "primeiro_elemento = lista[0]\n",
        "print(primeiro_elemento, type(primeiro_elemento))\n",
        "\n",
        "quantidade_elementos = len(lista)\n",
        "ultimo_elemento = lista[quantidade_elementos - 1]\n",
        "print(ultimo_elemento, type(ultimo_elemento))"
      ],
      "execution_count": 19,
      "outputs": [
        {
          "output_type": "stream",
          "text": [
            "[5, 7, 3, 6, 12, 30, 40, 90, 70, 60] <class 'list'>\n",
            "5 <class 'int'>\n",
            "60 <class 'int'>\n"
          ],
          "name": "stdout"
        }
      ]
    },
    {
      "cell_type": "code",
      "metadata": {
        "colab": {
          "base_uri": "https://localhost:8080/"
        },
        "id": "QUhb5VywGfmm",
        "outputId": "6ba41ef1-bbe6-494b-de83-03e332e8de79"
      },
      "source": [
        "lista = [5, 7, 3, 6, 12, 30, 40, 90]\n",
        "\n",
        "print(lista, type(lista))\n",
        "\n",
        "primeiro_elemento = lista[0]\n",
        "print(primeiro_elemento, type(primeiro_elemento))\n",
        "\n",
        "ultimo_elemento = lista[-1]\n",
        "print(ultimo_elemento, type(ultimo_elemento))"
      ],
      "execution_count": 21,
      "outputs": [
        {
          "output_type": "stream",
          "text": [
            "[5, 7, 3, 6, 12, 30, 40, 90] <class 'list'>\n",
            "5 <class 'int'>\n",
            "90 <class 'int'>\n"
          ],
          "name": "stdout"
        }
      ]
    },
    {
      "cell_type": "code",
      "metadata": {
        "colab": {
          "base_uri": "https://localhost:8080/"
        },
        "id": "Jv35pA6GGqis",
        "outputId": "0b3166fb-78a0-46ef-8a10-c84d3a4aca62"
      },
      "source": [
        "lista = [5, 7, 3, 6, 12, 30, 40, 90]\n",
        "\n",
        "print(lista, type(lista))\n",
        "\n",
        "primeiro_elemento = lista[0]\n",
        "print(primeiro_elemento, type(primeiro_elemento))\n",
        "\n",
        "lista[0] = 900\n",
        "\n",
        "print(lista)\n",
        "print(primeiro_elemento)"
      ],
      "execution_count": 23,
      "outputs": [
        {
          "output_type": "stream",
          "text": [
            "[5, 7, 3, 6, 12, 30, 40, 90] <class 'list'>\n",
            "5 <class 'int'>\n",
            "[900, 7, 3, 6, 12, 30, 40, 90]\n",
            "5\n"
          ],
          "name": "stdout"
        }
      ]
    },
    {
      "cell_type": "code",
      "metadata": {
        "colab": {
          "base_uri": "https://localhost:8080/"
        },
        "id": "x052m-2bHBlc",
        "outputId": "92929664-f45a-42df-d962-59766ec86fb2"
      },
      "source": [
        "tupla = (8, 6, 4, 6)\n",
        "\n",
        "print(tupla, type(tupla))\n",
        "\n",
        "primeiro_elemento = tupla[0]\n",
        "print(primeiro_elemento, type(primeiro_elemento))"
      ],
      "execution_count": 27,
      "outputs": [
        {
          "output_type": "stream",
          "text": [
            "(8, 6, 4, 6) <class 'tuple'>\n",
            "8 <class 'int'>\n"
          ],
          "name": "stdout"
        }
      ]
    },
    {
      "cell_type": "code",
      "metadata": {
        "colab": {
          "base_uri": "https://localhost:8080/"
        },
        "id": "_foJK_ghHUoo",
        "outputId": "c7ce68e1-6798-4a49-da61-dd493400eefc"
      },
      "source": [
        "tupla = 6,\n",
        "\n",
        "print(tupla, type(tupla))\n",
        "\n",
        "criar_rede_neural(nome=\"Paulo\", tupla2=(6,))"
      ],
      "execution_count": 38,
      "outputs": [
        {
          "output_type": "stream",
          "text": [
            "(6,) <class 'tuple'>\n",
            "Paulo (6,) <class 'tuple'>\n"
          ],
          "name": "stdout"
        }
      ]
    },
    {
      "cell_type": "code",
      "metadata": {
        "id": "5OiuVn7QHsCi"
      },
      "source": [
        "def criar_rede_neural(nome, tupla2):\n",
        "  print(nome, tupla2, type(tupla2))"
      ],
      "execution_count": 35,
      "outputs": []
    },
    {
      "cell_type": "code",
      "metadata": {
        "colab": {
          "base_uri": "https://localhost:8080/"
        },
        "id": "ZaCnUKIyIL2T",
        "outputId": "218f1d55-64b7-4720-964e-eb6dd534f697"
      },
      "source": [
        "tupla = (6, 2, 9, 4)\n",
        "\n",
        "print(tupla)\n",
        "print(tupla[0])"
      ],
      "execution_count": 42,
      "outputs": [
        {
          "output_type": "stream",
          "text": [
            "(6, 2, 9, 4)\n",
            "6\n"
          ],
          "name": "stdout"
        }
      ]
    },
    {
      "cell_type": "code",
      "metadata": {
        "colab": {
          "base_uri": "https://localhost:8080/"
        },
        "id": "Uqs_s07AIjDY",
        "outputId": "9d38ccf9-ad81-4396-8a77-58cb99a30133"
      },
      "source": [
        "numeros = [10, 20, 60, 70, 55, 14, 10, 99, 85, 70, 20, 44, 60, 55, 14, 99, 10]\n",
        "\n",
        "print(len(numeros))\n",
        "print(numeros)\n",
        "\n",
        "numeros_unicos = set(numeros)\n",
        "\n",
        "print(len(numeros_unicos))\n",
        "print(numeros_unicos)"
      ],
      "execution_count": 45,
      "outputs": [
        {
          "output_type": "stream",
          "text": [
            "17\n",
            "[10, 20, 60, 70, 55, 14, 10, 99, 85, 70, 20, 44, 60, 55, 14, 99, 10]\n",
            "9\n",
            "{99, 70, 10, 44, 14, 20, 85, 55, 60}\n"
          ],
          "name": "stdout"
        }
      ]
    },
    {
      "cell_type": "code",
      "metadata": {
        "colab": {
          "base_uri": "https://localhost:8080/"
        },
        "id": "HI3hNIqvI-E9",
        "outputId": "e236843f-c459-4bd3-c7c5-dd2d6dce8eb0"
      },
      "source": [
        "lista = [10, \"texto\", True, 10.5, \"texto\"]\n",
        "\n",
        "print(lista)\n",
        "print(set(lista))"
      ],
      "execution_count": 47,
      "outputs": [
        {
          "output_type": "stream",
          "text": [
            "[10, 'texto', True, 10.5, 'texto']\n",
            "{True, 10, 10.5, 'texto'}\n"
          ],
          "name": "stdout"
        }
      ]
    },
    {
      "cell_type": "code",
      "metadata": {
        "colab": {
          "base_uri": "https://localhost:8080/"
        },
        "id": "T6OR3-wLJdN7",
        "outputId": "aec8828b-545b-47c6-b3dd-ac6febec9aca"
      },
      "source": [
        "numeros = [1, 1, 1, 2, 3]\n",
        "\n",
        "print(numeros)\n",
        "\n",
        "print(set(numeros))"
      ],
      "execution_count": 48,
      "outputs": [
        {
          "output_type": "stream",
          "text": [
            "[1, 1, 1, 2, 3]\n",
            "{1, 2, 3}\n"
          ],
          "name": "stdout"
        }
      ]
    },
    {
      "cell_type": "code",
      "metadata": {
        "colab": {
          "base_uri": "https://localhost:8080/"
        },
        "id": "GNs6j4w8KGap",
        "outputId": "0575f20a-b18b-4a67-ae17-c145f2885a57"
      },
      "source": [
        "tupla = (5, 6, 7, 8)\n",
        "lista = list(tupla)\n",
        "print(tupla, type(tupla))\n",
        "print(lista, type(lista))"
      ],
      "execution_count": 49,
      "outputs": [
        {
          "output_type": "stream",
          "text": [
            "(5, 6, 7, 8) <class 'tuple'>\n",
            "[5, 6, 7, 8] <class 'list'>\n"
          ],
          "name": "stdout"
        }
      ]
    }
  ]
}